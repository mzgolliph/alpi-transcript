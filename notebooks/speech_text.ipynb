{
 "cells": [
  {
   "cell_type": "code",
   "execution_count": null,
   "id": "d544a725",
   "metadata": {},
   "outputs": [
    {
     "ename": "",
     "evalue": "",
     "output_type": "error",
     "traceback": [
      "\u001b[1;31mRunning cells with '.venv (Python 3.13.3)' requires the ipykernel package.\n",
      "\u001b[1;31mInstall 'ipykernel' into the Python environment. \n",
      "\u001b[1;31mCommand: '/Users/philico/Documents/Code/alpi-transcript/.venv/bin/python -m pip install ipykernel -U --force-reinstall'"
     ]
    }
   ],
   "source": [
    "import os\n",
    "from google.cloud import speech\n",
    "\n",
    "# Set the path to your service account key JSON file\n",
    "os.environ[\"GOOGLE_APPLICATION_CREDENTIALS\"] = \"alpi-457807-086132945a9d.json\"\n",
    "\n",
    "# Create a client\n",
    "client = speech.SpeechClient()\n",
    "\n",
    "# Load an audio file (must be LINEAR16 WAV or FLAC, mono, recommended <1 min for sync requests)\n",
    "file_path = \"path/to/audio.wav\"\n",
    "with open(file_path, \"rb\") as audio_file:\n",
    "    content = audio_file.read()\n",
    "\n",
    "audio = speech.RecognitionAudio(content=content)\n",
    "\n",
    "# Configuration for audio\n",
    "config = speech.RecognitionConfig(\n",
    "    encoding=speech.RecognitionConfig.AudioEncoding.LINEAR16,\n",
    "    sample_rate_hertz=16000,  # Adjust to your file's sample rate\n",
    "    language_code=\"en-US\"\n",
    ")\n",
    "\n",
    "# Send the request\n",
    "response = client.recognize(config=config, audio=audio)\n",
    "\n",
    "# Print the results\n",
    "for result in response.results:\n",
    "    print(\"Transcript:\", result.alternatives[0].transcript)\n"
   ]
  }
 ],
 "metadata": {
  "kernelspec": {
   "display_name": ".venv",
   "language": "python",
   "name": "python3"
  },
  "language_info": {
   "name": "python",
   "version": "3.13.3"
  }
 },
 "nbformat": 4,
 "nbformat_minor": 5
}
