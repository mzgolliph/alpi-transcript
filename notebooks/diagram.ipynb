{
 "cells": [
  {
   "cell_type": "code",
   "execution_count": null,
   "id": "7cc07a23",
   "metadata": {},
   "outputs": [],
   "source": [
    "import graphviz\n",
    "\n",
    "# Define the diagram using Graphviz DOT language\n",
    "dot = graphviz.Digraph(format='png')\n",
    "dot.attr(rankdir='LR', splines='ortho', nodesep='1')\n",
    "\n",
    "# Nodes\n",
    "dot.node('A', 'Record Audio\\n(User Input)', shape='box', style='rounded,filled', fillcolor='#E3F2FD')\n",
    "dot.node('B', 'Noise Reduction & Silence Removal\\n(RNNoise, WebRTC VAD, Demucs)', shape='box', style='rounded,filled', fillcolor='#BBDEFB')\n",
    "dot.node('C', 'Speech-to-Text Engine\\n(Google STT or Whisper)', shape='box', style='rounded,filled', fillcolor='#90CAF9')\n",
    "dot.node('D', 'GPT-Based Text Analyzer', shape='box', style='rounded,filled', fillcolor='#64B5F6')\n",
    "dot.node('D1', 'Grammar Cleanup', shape='box', style='rounded', fillcolor='#E1F5FE')\n",
    "dot.node('D2', 'Meeting Summary Generator', shape='box', style='rounded', fillcolor='#E1F5FE')\n",
    "dot.node('D3', 'Action Item Extractor', shape='box', style='rounded', fillcolor='#E1F5FE')\n",
    "dot.node('E', 'Structured Output Generator', shape='box', style='rounded,filled', fillcolor='#42A5F5')\n",
    "dot.node('F1', 'Report (PDF / Email)', shape='box', style='rounded', fillcolor='#BBDEFB')\n",
    "dot.node('F2', 'Tasks (JSON)', shape='box', style='rounded', fillcolor='#BBDEFB')\n",
    "dot.node('F3', 'Calendar Entry', shape='box', style='rounded', fillcolor='#BBDEFB')\n",
    "dot.node('G1', 'CRM', shape='box', style='rounded', fillcolor='#E3F2FD')\n",
    "dot.node('G2', 'Calendar API', shape='box', style='rounded', fillcolor='#E3F2FD')\n",
    "dot.node('G3', 'Client Email', shape='box', style='rounded', fillcolor='#E3F2FD')\n",
    "dot.node('H', 'Broker Review & Edit', shape='box', style='dashed,rounded', fillcolor='#FCE4EC')\n",
    "\n",
    "# Edges\n",
    "dot.edges([('A', 'B'), ('B', 'C'), ('C', 'D')])\n",
    "dot.edge('D', 'D1')\n",
    "dot.edge('D', 'D2')\n",
    "dot.edge('D', 'D3')\n",
    "dot.edge('D', 'E')\n",
    "dot.edges([('E', 'F1'), ('E', 'F2'), ('E', 'F3')])\n",
    "dot.edges([('F1', 'G1'), ('F2', 'G2'), ('F3', 'G3')])\n",
    "dot.edges([('G1', 'H'), ('G2', 'H'), ('G3', 'H')])\n",
    "\n",
    "# Render diagram\n",
    "image_path = \"transcription_app_architecture\"\n",
    "dot.render(filename=image_path, cleanup=False)\n",
    "image_path"
   ]
  }
 ],
 "metadata": {
  "kernelspec": {
   "display_name": ".venv",
   "language": "python",
   "name": "python3"
  },
  "language_info": {
   "name": "python",
   "version": "3.13.3"
  }
 },
 "nbformat": 4,
 "nbformat_minor": 5
}
